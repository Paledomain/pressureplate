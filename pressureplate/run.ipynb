{
 "cells": [
  {
   "cell_type": "code",
   "execution_count": 1,
   "id": "c1bb3dae-1442-4595-94bc-ee16a89cc289",
   "metadata": {},
   "outputs": [
    {
     "name": "stderr",
     "output_type": "stream",
     "text": [
      "/Users/mertkaaner/miniforge3/envs/pressure/lib/python3.12/site-packages/gym/envs/registration.py:498: UserWarning: \u001b[33mWARN: Overriding environment pressureplate-linear-1p-v0 already in registry.\u001b[0m\n",
      "  logger.warn(f\"Overriding environment {new_spec.id} already in registry.\")\n",
      "/Users/mertkaaner/miniforge3/envs/pressure/lib/python3.12/site-packages/gym/envs/registration.py:498: UserWarning: \u001b[33mWARN: Overriding environment pressureplate-custom-4p-v0 already in registry.\u001b[0m\n",
      "  logger.warn(f\"Overriding environment {new_spec.id} already in registry.\")\n",
      "/Users/mertkaaner/miniforge3/envs/pressure/lib/python3.12/site-packages/gym/envs/registration.py:498: UserWarning: \u001b[33mWARN: Overriding environment pressureplate-linear-4p-v0 already in registry.\u001b[0m\n",
      "  logger.warn(f\"Overriding environment {new_spec.id} already in registry.\")\n",
      "/Users/mertkaaner/miniforge3/envs/pressure/lib/python3.12/site-packages/gym/envs/registration.py:498: UserWarning: \u001b[33mWARN: Overriding environment pressureplate-linear-5p-v0 already in registry.\u001b[0m\n",
      "  logger.warn(f\"Overriding environment {new_spec.id} already in registry.\")\n",
      "/Users/mertkaaner/miniforge3/envs/pressure/lib/python3.12/site-packages/gym/envs/registration.py:498: UserWarning: \u001b[33mWARN: Overriding environment pressureplate-linear-6p-v0 already in registry.\u001b[0m\n",
      "  logger.warn(f\"Overriding environment {new_spec.id} already in registry.\")\n",
      "/Users/mertkaaner/miniforge3/envs/pressure/lib/python3.12/site-packages/gym/spaces/box.py:127: UserWarning: \u001b[33mWARN: Box bound precision lowered by casting to float32\u001b[0m\n",
      "  logger.warn(f\"Box bound precision lowered by casting to {self.dtype}\")\n",
      "/Users/mertkaaner/miniforge3/envs/pressure/lib/python3.12/site-packages/gym/utils/passive_env_checker.py:174: UserWarning: \u001b[33mWARN: Future gym versions will require that `Env.reset` can be passed a `seed` instead of using `Env.seed` for resetting the environment random number generator.\u001b[0m\n",
      "  logger.warn(\n",
      "/Users/mertkaaner/miniforge3/envs/pressure/lib/python3.12/site-packages/gym/utils/passive_env_checker.py:187: UserWarning: \u001b[33mWARN: Future gym versions will require that `Env.reset` can be passed `options` to allow the environment initialisation to be passed additional information.\u001b[0m\n",
      "  logger.warn(\n",
      "/Users/mertkaaner/miniforge3/envs/pressure/lib/python3.12/site-packages/gym/utils/passive_env_checker.py:199: UserWarning: \u001b[33mWARN: The result returned by `env.reset()` should be `(obs, info)` by default, , where `obs` is a observation and `info` is a dictionary containing additional information.\u001b[0m\n",
      "  logger.warn(\n",
      "/Users/mertkaaner/miniforge3/envs/pressure/lib/python3.12/site-packages/gym/utils/passive_env_checker.py:272: UserWarning: \u001b[33mWARN: No render modes was declared in the environment (env.metadata['render_modes'] is None or not defined), you may have trouble when calling `.render()`.\u001b[0m\n",
      "  logger.warn(\n"
     ]
    },
    {
     "name": "stdout",
     "output_type": "stream",
     "text": [
      "[ 1.  0.  0.  0.  1.  0.  0.  0.  0. 26.  7.  4.]\n"
     ]
    }
   ],
   "source": [
    "import gym\n",
    "import __init__\n",
    "import time\n",
    "import numpy as np\n",
    "#0: up\n",
    "#1: down\n",
    "#2: left\n",
    "#3: right\n",
    "#4: nothing\n",
    "\n",
    "#enter a number to select agent and move it with wasd\n",
    "\n",
    "env = gym.make('pressureplate-custom-4p-v0')\n",
    "state = env.reset()\n",
    "print(state[0])\n",
    "env.render()\n",
    "agent = 0\n",
    "for _ in range(1000):\n",
    "    action = [4,4,4,4]\n",
    "    _input = input(\"Enter action as wasd or number to change agent:\")\n",
    "\n",
    "    if _input in [\"0\",\"1\",\"2\",\"3\"]:\n",
    "        agent = int(_input)\n",
    "        continue\n",
    "    elif _input in [\"w\", \"a\", \"s\", \"d\"]:\n",
    "        if _input == \"w\":\n",
    "            action[agent] = 0\n",
    "        elif _input == \"a\":\n",
    "            action[agent] = 2\n",
    "        elif _input == \"d\":\n",
    "            action[agent] = 3\n",
    "        else:\n",
    "            action[agent] = 1\n",
    "    else:\n",
    "        continue\n",
    "\n",
    "    next_state, reward, dontknow, _ =  env.step(action)\n",
    "    print(\"agent 1:\")\n",
    "    print(next_state[1])\n",
    "    print(\"agent 3:\")\n",
    "    print(next_state[3])\n",
    "    env.render()"
   ]
  }
 ],
 "metadata": {
  "kernelspec": {
   "display_name": "Python 3 (ipykernel)",
   "language": "python",
   "name": "python3"
  },
  "language_info": {
   "codemirror_mode": {
    "name": "ipython",
    "version": 3
   },
   "file_extension": ".py",
   "mimetype": "text/x-python",
   "name": "python",
   "nbconvert_exporter": "python",
   "pygments_lexer": "ipython3",
   "version": "3.12.0"
  }
 },
 "nbformat": 4,
 "nbformat_minor": 5
}
