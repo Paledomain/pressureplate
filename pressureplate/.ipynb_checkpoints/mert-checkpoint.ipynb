{
 "cells": [
  {
   "cell_type": "code",
   "execution_count": null,
   "id": "c1bb3dae-1442-4595-94bc-ee16a89cc289",
   "metadata": {},
   "outputs": [],
   "source": [
    "import gym\n",
    "import __init__\n",
    "import time\n",
    "import numpy as np\n",
    "#0: up\n",
    "#1: down\n",
    "#2: left\n",
    "#3: right\n",
    "#4: nothing\n",
    "\n",
    "#enter a number to select agent and move it with wasd\n",
    "\n",
    "env = gym.make('pressureplate-custom-4p-v0')\n",
    "state = env.reset()\n",
    "print(state[0])\n",
    "env.render()\n",
    "agent = 0\n",
    "for _ in range(1000):\n",
    "    action = [4,4,4,4]\n",
    "    _input = input(\"Enter action as wasd or number to change agent:\")\n",
    "\n",
    "    if _input in [\"0\",\"1\",\"2\",\"3\"]:\n",
    "        agent = int(_input)\n",
    "        continue\n",
    "    elif _input in [\"w\", \"a\", \"s\", \"d\"]:\n",
    "        if _input == \"w\":\n",
    "            action[agent] = 0\n",
    "        elif _input == \"a\":\n",
    "            action[agent] = 2\n",
    "        elif _input == \"d\":\n",
    "            action[agent] = 3\n",
    "        else:\n",
    "            action[agent] = 1\n",
    "    else:\n",
    "        continue\n",
    "\n",
    "    next_state, reward, dontknow, _ =  env.step(action)\n",
    "    print(\"agent 1:\")\n",
    "    print(next_state[1])\n",
    "    print(\"agent 3:\")\n",
    "    print(next_state[3])\n",
    "    env.render()"
   ]
  }
 ],
 "metadata": {
  "kernelspec": {
   "display_name": "Python 3 (ipykernel)",
   "language": "python",
   "name": "python3"
  },
  "language_info": {
   "codemirror_mode": {
    "name": "ipython",
    "version": 3
   },
   "file_extension": ".py",
   "mimetype": "text/x-python",
   "name": "python",
   "nbconvert_exporter": "python",
   "pygments_lexer": "ipython3",
   "version": "3.12.0"
  }
 },
 "nbformat": 4,
 "nbformat_minor": 5
}
